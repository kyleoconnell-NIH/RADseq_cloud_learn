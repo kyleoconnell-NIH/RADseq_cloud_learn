{
 "cells": [
  {
   "cell_type": "markdown",
   "id": "4636b016-17d4-4d1f-ba76-ed90df2cabef",
   "metadata": {},
   "source": [
    "In the last module, we processed RADseq data from the red diamond rattlesnake (Crotalus ruber) to assemble it from raw reads into aligned data. We now have files that are sequences of SNPs (single nucleotide polymorphisms) or loci that are on a common coordinate system for each individual sample. This allows us to make inferences based on variation at sites in the alignment across samples. We'll do some basic population genetic analyses to look at population structure. We'll run all of this in R.\n",
    "\n"
   ]
  }
 ],
 "metadata": {
  "kernelspec": {
   "display_name": "R4.4.1",
   "language": "R",
   "name": "r4.4.1"
  },
  "language_info": {
   "codemirror_mode": "r",
   "file_extension": ".r",
   "mimetype": "text/x-r-source",
   "name": "R",
   "pygments_lexer": "r",
   "version": "4.4.1"
  }
 },
 "nbformat": 4,
 "nbformat_minor": 5
}
