{
 "cells": [
  {
   "cell_type": "markdown",
   "id": "4636b016-17d4-4d1f-ba76-ed90df2cabef",
   "metadata": {},
   "source": [
    "In the last module, we processed RADseq data from the red diamond rattlesnake (Crotalus ruber) to assemble it from raw reads into aligned data. We now have files that are sequences of SNPs (single nucleotide polymorphisms) or loci that are on a common coordinate system for each individual sample. This allows us to make inferences based on variation at sites in the alignment across samples. We'll do some basic population genetic analyses to look at population structure. We'll run all of this in R.\n",
    "\n"
   ]
  },
  {
   "cell_type": "code",
   "execution_count": null,
   "id": "70f6b473-e817-4264-849a-2d52a82fe6f6",
   "metadata": {},
   "outputs": [],
   "source": [
    "# necessary for me on MedicineBow cluster\n",
    ".libPaths(c(\"/cluster/medbow/home/sharrin2/R/x86_64-pc-linux-gnu-library/4.4\",\n",
    "            \"/apps/u/spack/gcc/14.2.0/r/4.4.0-w7xoohc/rlib/R/library\"))"
   ]
  },
  {
   "cell_type": "code",
   "execution_count": null,
   "id": "4ac14dac-57f9-4362-8a4b-d686b2ed4fbc",
   "metadata": {},
   "outputs": [],
   "source": [
    "# uncomment for actual tutorial, commented for dev\n",
    "# install.packages(c(\"adegenet\", \"plotrix\", \"mapdata\", \"BiocManager\", \"vcfR\", \"fossil\", \"scatterpie\", \"mapproj\", \"MASS\"))\n",
    "# BiocManager::install(\"LEA\")"
   ]
  },
  {
   "cell_type": "markdown",
   "id": "e51f4f50-7fe1-40d9-98b6-56c742b6997f",
   "metadata": {},
   "source": [
    "This may take several minutes. Once that's done, we can load up the packages:"
   ]
  },
  {
   "cell_type": "code",
   "execution_count": null,
   "id": "00ad019a-0183-4608-a04f-7b4799db08ef",
   "metadata": {},
   "outputs": [],
   "source": [
    "# Load up necessary packages\n",
    "library(vcfR)\n",
    "library(adegenet)\n",
    "library(LEA)\n",
    "library(mapdata)\n",
    "library(ggplot2)\n",
    "library(scatterpie)\n",
    "library(mapproj)\n",
    "library(fossil)\n",
    "library(MASS)"
   ]
  },
  {
   "cell_type": "markdown",
   "id": "1c415e97-1122-4fb6-8165-2f288426c4be",
   "metadata": {},
   "source": [
    "## tweak for gcp, obviously\n",
    "\n",
    "Then we will specify a number of file paths and read in a few files so that we don’t have to repeatedly hardcode file paths farther down in the notebook. This makes it easier to reuse the script on different datasets or the same data with different filtering schemes without having to search through the script for every time an absolute file path is specified."
   ]
  },
  {
   "cell_type": "code",
   "execution_count": null,
   "id": "02f3c22f-2f55-4ad6-9e44-e42d3ed77805",
   "metadata": {},
   "outputs": [],
   "source": [
    "## Set up an object containing the path to the data\n",
    "data_dir <- \"/home/sharrin2/radseq_cloud/ruber_reduced_denovo_outfiles\"\n",
    "\n",
    "## make a directory to put the output plots into\n",
    "##    this can be wherever you like, I'm putting it into the directory that contains\n",
    "##    my scripts and ipyrad output directories\n",
    "out_dir <- \"/home/sharrin2/radseq_cloud/pop_struct_out\"\n",
    "if(!dir.exists(out_dir)){ # check if the directory  exists and return TRUE if it does not\n",
    "  dir.create(out_dir)   # create the directory if it does not exist\n",
    "}\n",
    "\n",
    "# Set up an object that contains the base file name of files in the output directory. \n",
    "#    Data files are all this basename with varying extensions\n",
    "#  we won't call this 'basename' because that is a function in R\n",
    "#  setting up the files this way allows us to easily run this script on another assembly \n",
    "#    without needing to edit file names everywhere they occur\n",
    "basefile <- \"ruber_reduced_denovo\"\n",
    "\n",
    "# Read in the geographic coordinates for plotting later\n",
    "coords <- read.csv(\"/home/sharrin2/radseq_cloud/ruber_data/Localities.csv\", header=TRUE, row.names=NULL)\n",
    "\n",
    "\n",
    "\n",
    "####################################################################################\n",
    "## Set up paths to input files using the base file name specified above\n",
    "####################################################################################\n",
    "path_ugeno <- paste0(data_dir,\"/\", basefile,\".ugeno\")\n",
    "path_ustr <- paste0(data_dir,\"/\", basefile,\".ustr\")\n",
    "path_vcf <- paste0(data_dir,\"/\", basefile,\".vcf\")\n",
    "\n",
    "### Set up some colors for plotting farther down\n",
    "colors_2 <- c(\"red\", \"blue\") # colors for plotting 2 populations\n",
    "\n",
    "\n",
    "# Set the working directory to the output directory\n",
    "setwd(out_dir) # set directory as the output directory"
   ]
  },
  {
   "cell_type": "markdown",
   "id": "167ceea0-61b8-4d15-ba29-ac891ada1fd2",
   "metadata": {},
   "source": [
    "## Basic stats\n",
    "\n",
    "Let's start by reading in the data and calculating some very basic population genetic summary statistics.\n",
    "\n",
    "Read in the dat a from the vcf file:"
   ]
  },
  {
   "cell_type": "code",
   "execution_count": null,
   "id": "68f7f080-7b18-4fa5-b91a-6455c8a23662",
   "metadata": {},
   "outputs": [],
   "source": [
    "gendata_all <- read.vcfR(path_vcf) # read in all of the genetic data from the vcf file\n",
    "gendata <- vcfR2genind(gendata_all) # convert to genind format"
   ]
  },
  {
   "cell_type": "markdown",
   "id": "fae0866b-6a3d-423d-abcc-abc955e8b41e",
   "metadata": {},
   "source": [
    "Calculate observed and expected heterozygosity:\n"
   ]
  },
  {
   "cell_type": "code",
   "execution_count": null,
   "id": "10d16cbd-2b9a-4cde-8113-bbf9b5923847",
   "metadata": {},
   "outputs": [],
   "source": [
    "# Use adegenet's summary function on the genind object\n",
    "genstats <- summary(gendata)\n",
    "\n",
    "# and make overlapping histograms\n",
    "hist(genstats$Hobs, breaks = 15)\n",
    "hist(genstats$Hexp, add = TRUE, col = scales::alpha('blue',.25))"
   ]
  },
  {
   "cell_type": "markdown",
   "id": "c6420856-7bd3-4a14-8708-f8f789ec1b38",
   "metadata": {},
   "source": [
    "Looks like we might have lower observed than expected heterozygosity. Let's check the means across loci to confirm:"
   ]
  },
  {
   "cell_type": "code",
   "execution_count": null,
   "id": "005db400-21ed-462b-933f-4423bc7e0fe6",
   "metadata": {},
   "outputs": [],
   "source": [
    "# and look at the mean of each\n",
    "mean(genstats$Hobs)\n",
    "mean(genstats$Hexp)"
   ]
  },
  {
   "cell_type": "markdown",
   "id": "bbc54741-38f9-435b-80e0-5a62387c743d",
   "metadata": {},
   "source": [
    "Yep, we have low observed heterozygosity compared to expected. One likely reason for this is if there is population structure in the data. We'll test for this shortly."
   ]
  }
 ],
 "metadata": {
  "kernelspec": {
   "display_name": "R4.4.1",
   "language": "R",
   "name": "r4.4.1"
  },
  "language_info": {
   "codemirror_mode": "r",
   "file_extension": ".r",
   "mimetype": "text/x-r-source",
   "name": "R",
   "pygments_lexer": "r",
   "version": "4.4.1"
  }
 },
 "nbformat": 4,
 "nbformat_minor": 5
}
