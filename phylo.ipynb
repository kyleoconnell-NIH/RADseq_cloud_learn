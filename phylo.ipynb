{
 "cells": [
  {
   "cell_type": "markdown",
   "id": "dac6104a-3e1d-4bf0-85d0-79ff02ec9e4c",
   "metadata": {},
   "source": [
    "# Phylogenetic inference\n",
    "\n",
    "Next, we'll make a couple quick phylogenetic trees of our samples from the ipyrad assembly.\n",
    "\n",
    "<br>\n",
    "\n",
    "## iqtree\n",
    "\n",
    "iqtree is a very commonly used and very easy to use program for generating maximum likelihood phylogenies. We'll start with this.\n",
    "\n",
    "### MORE BACKGROUND HERE once code is all there\n",
    "\n",
    "\n",
    "\n"
   ]
  },
  {
   "cell_type": "markdown",
   "id": "c2b32bed-222a-4595-998d-21525b595068",
   "metadata": {},
   "source": [
    "Load up the module on the UW cluster - probably container iqtree + SVDQuartets (paup) for GCP"
   ]
  },
  {
   "cell_type": "code",
   "execution_count": null,
   "id": "de77941a-6ebb-4d7d-96f5-ff9199a04022",
   "metadata": {},
   "outputs": [],
   "source": [
    "! module load iq-tree/2.3.6"
   ]
  },
  {
   "cell_type": "code",
   "execution_count": null,
   "id": "13c6b1cf-79a3-4ea8-8974-d70525161404",
   "metadata": {},
   "outputs": [],
   "source": [
    "# ! /apps/u/opt/linux/iq-tree/2.3.6/bin/iqtree2"
   ]
  },
  {
   "cell_type": "markdown",
   "id": "013bb47c-4835-47bf-b1b6-694919ab0fce",
   "metadata": {},
   "source": [
    "It's very easy to run, we mostly just need to point iqtree to the input file, which we'll set as the phylip-formatted output from ipyrad, the `.phy` file. \n",
    "\n",
    "\n",
    "We'll set up our input and output paths as variables so that these can easily be changed and we shouldn't need to change much in the actual program call for different datasets, just these variables.\n",
    "\n",
    "`INFILE` will be the name and path to the input file\n",
    "`OUTFIX` will the be the prefix that gets prepended to each output file.\n",
    "`OUTDIR` is the directory that we want all output to go into.\n",
    "\n",
    "\n",
    " Options that we'll set int the program call include:\n",
    "\n",
    "`-s $INFILE` sets the input sequence file.\n",
    "\n",
    "`-m MFP` which instead of specifying a model of evolution, tells IQTree to use ModelFinderPlus to find the best model of sequence evolution.\n",
    "\n",
    "`-T auto` tells IQTree to automatically determine the best number of threads to use, within some maximum we specify based on what we've allocated.\n",
    "\n",
    "`--prefix $OUTFIX` sets the prefix for our output to what we define in out `OUTFIX` bash variable.\n",
    "\n",
    "`-B 1000` tells IQTree to use 1000 rapid bootstraps for assessing support.\n",
    "\n",
    "`-alrt 1000` uses 1000 bootstrap replicates for SH-aLRT calculation (a likelihood-based metric of branch support).\n",
    "\n",
    "`-ntmax 12` sets the maximum number of threads to use, this should not exceeed the number of cores in your instance.\n"
   ]
  },
  {
   "cell_type": "code",
   "execution_count": null,
   "id": "04bb5f9d-04fe-43f9-adfb-0b77e5eae2e5",
   "metadata": {},
   "outputs": [],
   "source": [
    "import os\n",
    "\n",
    "\n",
    "\n",
    "# set up the input file, outfile prefix, and output directory\n",
    "os.environ[\"INFILE\"] = \"/project/inbreh/radseq_cloud/ruber_reduced_denovo_outfiles/ruber_reduced_denovo.phy\"\n",
    "os.environ[\"OUTFIX\"] = \"ruber\"\n",
    "OUTDIR = \"/project/inbreh/radseq_cloud/iqtree_out\""
   ]
  },
  {
   "cell_type": "code",
   "execution_count": null,
   "id": "9afea247-7d1e-4c3b-a2f4-8e1fc9a55a11",
   "metadata": {},
   "outputs": [],
   "source": [
    "! mkdir -p $OUTDIR # create the output directory if it doesn't already exist\n",
    "os.chdir(OUTDIR)"
   ]
  },
  {
   "cell_type": "code",
   "execution_count": null,
   "id": "61323870-53fd-4586-8c49-468eb9fd7702",
   "metadata": {},
   "outputs": [],
   "source": [
    "## Execute iqtree\n",
    "\n",
    "! /apps/u/opt/linux/iq-tree/2.3.6/bin/iqtree2 -s $INFILE -m MFP -T auto --prefix $OUTFIX -B 1000 -alrt 1000 -nt AUTO -ntmax 32"
   ]
  },
  {
   "cell_type": "markdown",
   "id": "4c00772e-f870-4f8e-9449-db4d6255c69f",
   "metadata": {},
   "source": [
    "## SVDQuartets\n",
    "\n",
    "\n",
    "SVDQuartets is a quartet-based method that is designed to work on SNPs to crate species trees, but it can also be used with full concatenated alignments to generate trees of indiviuals like we've done with IQTree.\n",
    "\n",
    "It is somewhat more involved to set up, and we'll again set it up with a bunch of bash variables.\n",
    "\n",
    "What we'll do is run a single search for the best tree, save it, then run a search that includes bootstrapping and save those trees. Later, in R, we'll plot the bootstraps onto the best tree. Note that if you follow the tutorial from **ADD IT IN**, the bootstraps will be plotted on a consensus of bootstrap trees, not the tree that has the highest likelihood onyour actual data. I consider this to be highly undesirable.\n",
    "\n",
    "## NOTE that you will need to manually edit the nexus file and create a new one in which you delete the charsets"
   ]
  },
  {
   "cell_type": "code",
   "execution_count": null,
   "id": "17dfafba-e5c7-42c5-867a-aacc4873f404",
   "metadata": {},
   "outputs": [],
   "source": [
    "%%bash\n",
    "PAUP=/project/inbreh/software/paup4a168_centos64 # set up PAUP path\n",
    "OUTDIR=\"/project/inbreh/radseq_cloud/svdq_out\"\n",
    "\n",
    "\n",
    "#define  variables for the PAUPblock\n",
    "filebname=\"ruber_reduced_denovo\" #basename for all produced files\n",
    "infile=\"/project/inbreh/radseq_cloud/ruber_reduced_denovo_outfiles/ruber_reduced_denovoPAUP.nex\" #name of input nexus file; can give a path so the input files don't have to be part of the working directory\n",
    "nthreads=12 #number of threads in the slurm script\n",
    "nreps=200 #number of reps for bootstrapping\n",
    "\n",
    "\n",
    "\n",
    "################################################################################################################################################################\n",
    "################################################################################################################################################################\n",
    "####    Run based on the parameters set above\n",
    "################################################################################################################################################################\n",
    "################################################################################################################################################################\n",
    "\n",
    "\n",
    "#change working directory to where your output files will go\n",
    "mkdir -p $OUTDIR\n",
    "cd $OUTDIR\n",
    "\n",
    "\n",
    "cat <<EOF > $filebname.paup.txt\n",
    "Begin paup;\n",
    "set autoclose=yes warntree=no warnreset=no flock=no;\n",
    "log start file=$filebname.log ;\n",
    "execute $infile;\n",
    "svdQuartets evalQuartets=all showScores=no ambigs=distribute bootstrap=no nthreads=$nthreads;\n",
    "savetrees file=$filebname.besttree.tre;\n",
    "svdQuartets evalQuartets=all showScores=no ambigs=distribute bootstrap=standard nreps=$nreps nthreads=$nthreads treefile=$filebname.svdqboots.tre;  \n",
    "quit; \n",
    "end;\n",
    "EOF\n",
    "\n",
    "$PAUP $filebname.paup.txt #execute your new paup block file\n",
    "\n",
    "\n",
    "\n"
   ]
  }
 ],
 "metadata": {
  "kernelspec": {
   "display_name": "Python 3 (ipykernel)",
   "language": "python",
   "name": "python3"
  },
  "language_info": {
   "codemirror_mode": {
    "name": "ipython",
    "version": 3
   },
   "file_extension": ".py",
   "mimetype": "text/x-python",
   "name": "python",
   "nbconvert_exporter": "python",
   "pygments_lexer": "ipython3",
   "version": "3.12.3"
  }
 },
 "nbformat": 4,
 "nbformat_minor": 5
}
